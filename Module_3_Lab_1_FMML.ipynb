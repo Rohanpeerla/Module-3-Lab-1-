{
  "nbformat": 4,
  "nbformat_minor": 0,
  "metadata": {
    "colab": {
      "provenance": [],
      "authorship_tag": "ABX9TyNYurrbV94lnM5QlyUQ3MRv",
      "include_colab_link": true
    },
    "kernelspec": {
      "name": "python3",
      "display_name": "Python 3"
    },
    "language_info": {
      "name": "python"
    }
  },
  "cells": [
    {
      "cell_type": "markdown",
      "metadata": {
        "id": "view-in-github",
        "colab_type": "text"
      },
      "source": [
        "<a href=\"https://colab.research.google.com/github/Rohanpeerla/Module-3-Lab-1-/blob/master/Module_3_Lab_1_FMML.ipynb\" target=\"_parent\"><img src=\"https://colab.research.google.com/assets/colab-badge.svg\" alt=\"Open In Colab\"/></a>"
      ]
    },
    {
      "cell_type": "markdown",
      "source": [
        "Name:Rohan Peerla\n",
        "\n",
        "Roll no:20230067"
      ],
      "metadata": {
        "id": "5KQChKLrdNmv"
      }
    },
    {
      "cell_type": "markdown",
      "source": [
        "1.How are similarity and distance different from each other?"
      ],
      "metadata": {
        "id": "lDUUsRP4ceGM"
      }
    },
    {
      "cell_type": "markdown",
      "source": [
        "Similarity and distance are like two sides of the same coin in the world of data analysis.\n",
        "\n",
        "Similarity is a measure of how alike two objects or data points are. It's like asking, \"How much do these things resemble each other?\" High similarity means they're more alike, while low similarity suggests they're different.\n",
        "\n",
        "On the other hand, distance is a measure of how far apart two objects or points are in a space. It's like asking, \"What's the distance between these two things?\" Smaller distance typically implies they're closer, while larger distance means they're farther apart.\n",
        "\n",
        "So, in a way, similarity is about closeness in characteristics, and distance is about literal space between them. They're two sides of the coin because you can often use one to calculate the other. If things are very similar, their distance is likely small, and vice versa. It's like a dance between how much things resemble each other and how much physical space separates them."
      ],
      "metadata": {
        "id": "HLM6A7beceOt"
      }
    },
    {
      "cell_type": "code",
      "source": [
        "Are there any conditions for a particular distance to be considered a \"distance metric\"?"
      ],
      "metadata": {
        "id": "xXJ3ifjpcpgJ"
      },
      "execution_count": null,
      "outputs": []
    },
    {
      "cell_type": "markdown",
      "source": [
        "Non-negativity: The distance between any two points should always be non-negative. Mathematically, for any points\n",
        "�\n",
        "x and\n",
        "�\n",
        "y, the distance function\n",
        "�\n",
        "(\n",
        "�\n",
        ",\n",
        "�\n",
        ")\n",
        "d(x,y) must be greater than or equal to zero:\n",
        "�\n",
        "(\n",
        "�\n",
        ",\n",
        "�\n",
        ")\n",
        "≥\n",
        "0\n",
        "d(x,y)≥0.\n",
        "\n",
        "Identity of indiscernibles: The distance from a point to itself should be zero. In other words, for any point\n",
        "�\n",
        "x,\n",
        "�\n",
        "(\n",
        "�\n",
        ",\n",
        "�\n",
        ")\n",
        "=\n",
        "0\n",
        "d(x,x)=0.\n",
        "\n",
        "Symmetry: The distance between point\n",
        "�\n",
        "x and point\n",
        "�\n",
        "y should be the same as the distance between\n",
        "�\n",
        "y and\n",
        "�\n",
        "x. Mathematically, for any points\n",
        "�\n",
        "x and\n",
        "�\n",
        "y,\n",
        "�\n",
        "(\n",
        "�\n",
        ",\n",
        "�\n",
        ")\n",
        "=\n",
        "�\n",
        "(\n",
        "�\n",
        ",\n",
        "�\n",
        ")\n",
        "d(x,y)=d(y,x).\n",
        "\n",
        "Additionally, some distance metrics need to satisfy the triangle inequality:\n",
        "\n",
        "Triangle inequality: The distance between two points, say\n",
        "�\n",
        "x and\n",
        "�\n",
        "y, plus the distance from\n",
        "�\n",
        "y to another point\n",
        "�\n",
        "z should be greater than or equal to the distance from\n",
        "�\n",
        "x to\n",
        "�\n",
        "z. Mathematically, for any points\n",
        "�\n",
        "x,\n",
        "�\n",
        "y, and\n",
        "�\n",
        "z, the triangle inequality is given by\n",
        "�\n",
        "(\n",
        "�\n",
        ",\n",
        "�\n",
        ")\n",
        "+\n",
        "�\n",
        "(\n",
        "�\n",
        ",\n",
        "�\n",
        ")\n",
        "≥\n",
        "�\n",
        "(\n",
        "�\n",
        ",\n",
        "�\n",
        ")\n",
        "d(x,y)+d(y,z)≥d(x,z).\n",
        "If a function meets all these conditions, it is considered a valid distance metric. These criteria ensure that the distance measure behaves intuitively and consistently in a mathematical space."
      ],
      "metadata": {
        "id": "W6HOUHsocovr"
      }
    }
  ]
}